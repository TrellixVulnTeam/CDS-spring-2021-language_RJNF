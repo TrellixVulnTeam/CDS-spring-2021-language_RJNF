{
 "cells": [
  {
   "cell_type": "markdown",
   "metadata": {},
   "source": [
    "# Assignment 1\n",
    "## Task\n",
    "Using the corpus called 100-english-novels found on the cds-language GitHub repo, write a Python programme which does the following:    \n",
    "- Calculate the total word count for each novel  \n",
    "- Calculate the total number of unique words for each novel  \n",
    "- Save result as a single file consisting of three columns: *filename*, *total_words*, *unique_words*\n"
   ]
  },
  {
   "cell_type": "markdown",
   "metadata": {},
   "source": [
    "## Answers\n",
    "First, we load the relevant libraries/modules."
   ]
  },
  {
   "cell_type": "code",
   "execution_count": 11,
   "metadata": {},
   "outputs": [],
   "source": [
    "import os\n",
    "from os import listdir\n",
    "from pathlib import Path\n",
    "import pandas as pd"
   ]
  },
  {
   "cell_type": "markdown",
   "metadata": {},
   "source": [
    "Then, we define the filepath."
   ]
  },
  {
   "cell_type": "code",
   "execution_count": 12,
   "metadata": {},
   "outputs": [],
   "source": [
    "filepath = os.path.join(\"..\", \"data\", \"100_english_novels\", \"corpus\")"
   ]
  },
  {
   "cell_type": "markdown",
   "metadata": {},
   "source": [
    "With a for-loop, we loop through each file from the specified path. As each file represents a novel, we can calculate number of words and number of unique words in each novel within the for-loop. The information is saved in two lists, *n_words* and *n_unique_words*. "
   ]
  },
  {
   "cell_type": "code",
   "execution_count": 14,
   "metadata": {},
   "outputs": [],
   "source": [
    "n_words = [] #empty list for number of words\n",
    "n_unique_words = [] #empty list for number of unique words\n",
    "\n",
    "for filename in Path(filepath).glob(\"*.txt\"):\n",
    "    with open(filename, \"r\", encoding=\"utf-8\") as file:\n",
    "        novels = file.read()\n",
    "        \n",
    "        #calculate number of words\n",
    "        n_words.append(len(novels.split())) #split() splits by whitespace\n",
    "        \n",
    "        #calculate number of unique words\n",
    "        n_unique_words.append(len(set(novels.split()))) #set() checks for unique value\n",
    "        "
   ]
  },
  {
   "cell_type": "markdown",
   "metadata": {},
   "source": [
    "Now, we have a list in which each element represent the number of words in a novel and a list in which each element represents number of unique words in a novel. Using pandas, we then create a df to store this information in along with the filename of each novel. "
   ]
  },
  {
   "cell_type": "code",
   "execution_count": 15,
   "metadata": {},
   "outputs": [],
   "source": [
    "df = pd.DataFrame()\n",
    "df[\"filename\"] = [name for name in os.listdir(filepath)] #extracts filename\n",
    "df[\"total_words\"] = n_words\n",
    "df[\"unique_words\"] = n_unique_words"
   ]
  },
  {
   "cell_type": "markdown",
   "metadata": {},
   "source": [
    "Lastly, we write the dataframe as a .csv-file called *novels_info.csv*."
   ]
  },
  {
   "cell_type": "code",
   "execution_count": 16,
   "metadata": {},
   "outputs": [],
   "source": [
    "outpath = os.path.join(\"out\", \"novels_info.csv\")\n",
    "df.to_csv(outpath)"
   ]
  }
 ],
 "metadata": {
  "kernelspec": {
   "display_name": "lang101",
   "language": "python",
   "name": "lang101"
  },
  "language_info": {
   "codemirror_mode": {
    "name": "ipython",
    "version": 3
   },
   "file_extension": ".py",
   "mimetype": "text/x-python",
   "name": "python",
   "nbconvert_exporter": "python",
   "pygments_lexer": "ipython3",
   "version": "3.6.9"
  }
 },
 "nbformat": 4,
 "nbformat_minor": 4
}
