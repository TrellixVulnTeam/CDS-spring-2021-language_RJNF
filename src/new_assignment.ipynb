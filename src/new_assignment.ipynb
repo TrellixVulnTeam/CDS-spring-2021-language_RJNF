{
 "cells": [
  {
   "cell_type": "markdown",
   "metadata": {},
   "source": [
    "# Assignment\n",
    "- Calculate the sentiment score for every headline in the data. You can do this using the spaCyTextBlob approach that we covered in class or any other dictionary-based approach in Python.  \n",
    "- Create and save a plot of sentiment over time with a 1-week rolling average  \n",
    "- Create and save a plot of sentiment over time with a 1-month rolling average  \n",
    "- Make sure that you have clear values on the x-axis and that you include the following: a plot title; labels for the x and y axes; and a legend for the plot  \n",
    "- Write a short summary (no more than a paragraph) describing what the two plots show. You should mention the following points: 1) What (if any) are the general trends? 2) What (if any) inferences might you draw from them?  "
   ]
  },
  {
   "cell_type": "markdown",
   "metadata": {},
   "source": [
    "activate venv \n",
    "install spacy\n",
    "evt. install pandas\n",
    "\n",
    "cd cds-language\n",
    "source lang101/bin/activate\n",
    "pip uninstall spacy\n",
    "pip install spacy==2.3.5\n",
    "pip install spacytextblob\n",
    "python -m spacy download en_core_web_sm\n",
    "deactivate\n"
   ]
  },
  {
   "cell_type": "code",
   "execution_count": null,
   "metadata": {},
   "outputs": [],
   "source": [
    "import os\n",
    "import spacy "
   ]
  }
 ],
 "metadata": {
  "kernelspec": {
   "display_name": "frille-lang",
   "language": "python",
   "name": "frille-lang"
  },
  "language_info": {
   "codemirror_mode": {
    "name": "ipython",
    "version": 3
   },
   "file_extension": ".py",
   "mimetype": "text/x-python",
   "name": "python",
   "nbconvert_exporter": "python",
   "pygments_lexer": "ipython3",
   "version": "3.6.9"
  }
 },
 "nbformat": 4,
 "nbformat_minor": 4
}
